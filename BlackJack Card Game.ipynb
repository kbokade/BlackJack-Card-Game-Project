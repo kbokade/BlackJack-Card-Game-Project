{
 "cells": [
  {
   "cell_type": "markdown",
   "id": "dd716498-ae2c-43be-a242-4839816f1ed3",
   "metadata": {},
   "source": [
    "Game Play\n",
    "\n",
    "To play a hand of Blackjack the following steps:-\n",
    "\n",
    "1. Create a deck of 52 cards\n",
    "2. Shuffle the deck\n",
    "3. Ask the Player for their bet\n",
    "4. Make sure that the Player's bet does not exceed their available chips\n",
    "5. Deal two cards to the Dealer and two cards to the Player\n",
    "6. Show only one of the Dealer's cards, the other remains hidden\n",
    "7. Show both of the Player's cards\n",
    "8. Ask the Player if they wish to Hit, and take another card\n",
    "9. If the Player's hand doesn't Bust (go over 21), ask if they'd like to Hit again.\n",
    "10. If a Player Stands, play the Dealer's hand. The dealer will always Hit until the Dealer's value meets or exceeds 17\n",
    "11. Determine the winner and adjust the Player's chips accordingly\n",
    "12. Ask the Player if they'd like to play again"
   ]
  },
  {
   "cell_type": "markdown",
   "id": "44c818f0-da46-4607-8cb4-00d768cfab8e",
   "metadata": {},
   "source": []
  },
  {
   "cell_type": "markdown",
   "id": "15c35632-c2da-4db7-8d00-ccca82ecf265",
   "metadata": {},
   "source": [
    "Playing Cards\n",
    "\n",
    "A standard deck of playing cards has four suits (Hearts, Diamonds, Spades and Clubs) and thirteen ranks (2 through 10, then the face cards Jack, Queen, King and Ace) for a total of 52 cards per deck. Jacks, Queens and Kings all have a rank of 10. Aces have a rank of either 11 or 1 as needed to reach 21 without busting. As a starting point in program, assign variables to store a list of suits, ranks, and then use a dictionary to map ranks to values."
   ]
  },
  {
   "cell_type": "code",
   "execution_count": null,
   "id": "018195d3-e884-4938-b13a-5d36ac044a2f",
   "metadata": {},
   "outputs": [],
   "source": []
  },
  {
   "cell_type": "markdown",
   "id": "217c622f-675a-4779-88e2-310d489d9301",
   "metadata": {},
   "source": [
    "The Game"
   ]
  },
  {
   "cell_type": "markdown",
   "id": "d26567fe-75e4-4d2e-b598-4f1b86902120",
   "metadata": {},
   "source": [
    "Step 1: Importing the random module.This will be used to shuffle the deck prior to dealing. Then, declare variables to store suits, ranks and values. Finally, declare a Boolean value to be used to control while loops. This is a common practice used to control the flow of the game."
   ]
  },
  {
   "cell_type": "markdown",
   "id": "e90c32c3-9a92-4342-9f9a-4587174563eb",
   "metadata": {},
   "source": [
    "suits = ('Hearts', 'Diamonds', 'Spades', 'Clubs')\n",
    "ranks = ('Two', 'Three', 'Four', 'Five', 'Six', 'Seven', 'Eight', 'Nine', 'Ten', 'Jack', 'Queen', 'King', 'Ace')\n",
    "values = {'Two':2, 'Three':3, 'Four':4, 'Five':5, 'Six':6, 'Seven':7, 'Eight':8, 'Nine':9, 'Ten':10, 'Jack':10,\n",
    "         'Queen':10, 'King':10, 'Ace':11}"
   ]
  },
  {
   "cell_type": "code",
   "execution_count": 9,
   "id": "e42dcbfb-0173-4f20-804c-6b6dff92799c",
   "metadata": {},
   "outputs": [],
   "source": [
    "import random\n",
    "\n",
    "suits = ('Hearts', 'Diamonds', 'Spades', 'Clubs')\n",
    "ranks = ('Two', 'Three', 'Four', 'Five', 'Six', 'Seven', 'Eight', 'Nine', 'Ten', 'Jack', 'Queen', 'King', 'Ace')\n",
    "values = {'Two':2, 'Three':3, 'Four':4, 'Five':5, 'Six':6, 'Seven':7, 'Eight':8, 'Nine':9, 'Ten':10, 'Jack':10,\n",
    "         'Queen':10, 'King':10, 'Ace':11}\n",
    "\n",
    "playing = True"
   ]
  },
  {
   "cell_type": "code",
   "execution_count": null,
   "id": "15c7f93c-7779-44cb-a314-3bb76085af67",
   "metadata": {},
   "outputs": [],
   "source": []
  },
  {
   "cell_type": "markdown",
   "id": "73f9355d-50a2-417e-953a-396d8b0cffd2",
   "metadata": {},
   "source": [
    "Step 2: Create a Card Class\n",
    "A Card object really only needs two attributes: suit and rank. Might add an attribute for \"value\" - chose to handle value later when developing Hand class.\n",
    "In addition to the Card's __init__ method, consider adding a __str__ method that, when asked to print a Card, returns a string in the form \"Two of Hearts\""
   ]
  },
  {
   "cell_type": "code",
   "execution_count": 13,
   "id": "5fc47f2f-3c36-43eb-b97c-a1b149a795c2",
   "metadata": {},
   "outputs": [],
   "source": [
    "class Card:\n",
    "\n",
    "    def __init__(self,suit,rank):\n",
    "        self.suit = suit\n",
    "        self.rank = rank\n",
    "        \n",
    "    def __str__(self):\n",
    "        return self.rank + ' of ' + self.suit"
   ]
  },
  {
   "cell_type": "code",
   "execution_count": null,
   "id": "4435b767-19f0-4d7a-986d-53ee2807dc7c",
   "metadata": {},
   "outputs": [],
   "source": []
  },
  {
   "cell_type": "markdown",
   "id": "3ee77e8d-86d9-4396-bd8c-abe35852bd3d",
   "metadata": {},
   "source": [
    "Step 3: Create a Deck Class\n",
    "Here might store 52 card objects in a list that can later be shuffled. First, though, need to instantiate all 52 unique card objects and add them to our list. So long as the Card class definition appears in our code, we can build Card objects inside our Deck __init__ method. Consider iterating over sequences of suits and ranks to build out each card. This might appear inside a Deck class __init__ method:\n",
    "\n",
    "for suit in suits:\r\n",
    "    for rank in ranks\n",
    "    :In addition to an __init__ method we'll want to add methods to shuffle our deck, and to deal out cards during gameplay.\n"
   ]
  },
  {
   "cell_type": "code",
   "execution_count": 17,
   "id": "52a60615-1d78-4a65-9430-6aa52484b920",
   "metadata": {},
   "outputs": [],
   "source": [
    "class Deck:\n",
    "    \n",
    "    def __init__(self):\n",
    "        self.deck = []  # START WITH AN EMTY LIST\n",
    "        for suit in suits:\n",
    "            for rank in ranks:\n",
    "                self.deck.append(Card(suit,rank))  # BUILD CARD OBJECTS AND ADD THEM TO THE LIST\n",
    "    \n",
    "    def __str__(self):\n",
    "        deck_comp = ''  # START WITH AN EMPTY STRING\n",
    "        for card in self.deck:\n",
    "            deck_comp += '\\n '+card.__str__() # ADD EACH CARD OBJECT'S PRINT STRING\n",
    "        return 'The deck has:' + deck_comp\n",
    "\n",
    "    def shuffle(self):\n",
    "        random.shuffle(self.deck)\n",
    "        \n",
    "    def deal(self):\n",
    "        single_card = self.deck.pop()\n",
    "        return single_card"
   ]
  },
  {
   "cell_type": "code",
   "execution_count": 19,
   "id": "70b1da85-9abc-4b68-b86d-367a0d05e1c2",
   "metadata": {},
   "outputs": [
    {
     "name": "stdout",
     "output_type": "stream",
     "text": [
      "The deck has:\n",
      " Two of Hearts\n",
      " Three of Hearts\n",
      " Four of Hearts\n",
      " Five of Hearts\n",
      " Six of Hearts\n",
      " Seven of Hearts\n",
      " Eight of Hearts\n",
      " Nine of Hearts\n",
      " Ten of Hearts\n",
      " Jack of Hearts\n",
      " Queen of Hearts\n",
      " King of Hearts\n",
      " Ace of Hearts\n",
      " Two of Diamonds\n",
      " Three of Diamonds\n",
      " Four of Diamonds\n",
      " Five of Diamonds\n",
      " Six of Diamonds\n",
      " Seven of Diamonds\n",
      " Eight of Diamonds\n",
      " Nine of Diamonds\n",
      " Ten of Diamonds\n",
      " Jack of Diamonds\n",
      " Queen of Diamonds\n",
      " King of Diamonds\n",
      " Ace of Diamonds\n",
      " Two of Spades\n",
      " Three of Spades\n",
      " Four of Spades\n",
      " Five of Spades\n",
      " Six of Spades\n",
      " Seven of Spades\n",
      " Eight of Spades\n",
      " Nine of Spades\n",
      " Ten of Spades\n",
      " Jack of Spades\n",
      " Queen of Spades\n",
      " King of Spades\n",
      " Ace of Spades\n",
      " Two of Clubs\n",
      " Three of Clubs\n",
      " Four of Clubs\n",
      " Five of Clubs\n",
      " Six of Clubs\n",
      " Seven of Clubs\n",
      " Eight of Clubs\n",
      " Nine of Clubs\n",
      " Ten of Clubs\n",
      " Jack of Clubs\n",
      " Queen of Clubs\n",
      " King of Clubs\n",
      " Ace of Clubs\n"
     ]
    }
   ],
   "source": [
    "test_deck = Deck()\n",
    "print(test_deck)"
   ]
  },
  {
   "cell_type": "code",
   "execution_count": null,
   "id": "964a8a81-ab68-4787-9cf2-733fee5312f4",
   "metadata": {},
   "outputs": [],
   "source": []
  },
  {
   "cell_type": "markdown",
   "id": "a89e34eb-0ef0-4b45-8800-c28e2b86b1ce",
   "metadata": {},
   "source": [
    "Step 4: Create a Hand Class\n",
    "In addition to holding Card objects dealt from the Deck, the Hand class may be used to calculate the value of those cards using the values dictionary defined above. It may also need to adjust for the value of Aces when appropriate."
   ]
  },
  {
   "cell_type": "code",
   "execution_count": 23,
   "id": "349a3fb5-8ff6-47ba-875c-ef38ea12f375",
   "metadata": {},
   "outputs": [],
   "source": [
    "class Hand:\n",
    "    def __init__(self):\n",
    "        self.cards = []  # START WITH AN EMPTY LIST AS WE DID IN THE DECK CLASS\n",
    "        self.value = 0   # START WITH ZERO VALUE\n",
    "        self.aces = 0    # ADD AN ATTRIBUTE TO KEEP TRACK OF ACES\n",
    "    \n",
    "    def add_card(self,card): # CARD PASSED IN\n",
    "        self.cards.append(card) # FROM Deck.deal() -> single card(suit,rank)\n",
    "        self.value += values[card.rank]\n",
    "    \n",
    "    def adjust_for_ace(self):\n",
    "        pass"
   ]
  },
  {
   "cell_type": "code",
   "execution_count": 25,
   "id": "f3d53ae1-f783-4105-b3ca-c85938554953",
   "metadata": {},
   "outputs": [
    {
     "data": {
      "text/plain": [
       "16"
      ]
     },
     "execution_count": 25,
     "metadata": {},
     "output_type": "execute_result"
    }
   ],
   "source": [
    "test_deck = Deck()\n",
    "test_deck.shuffle()\n",
    "test_player = Hand() # PLAYER\n",
    "test_player.add_card(test_deck.deal()) # DEAL 1 CRAD FROM THE deck CARD(suit, rank)\n",
    "test_player.add_card(test_deck.deal())\n",
    "test_player.value"
   ]
  },
  {
   "cell_type": "code",
   "execution_count": 27,
   "id": "bc99fe3d-ba7a-454e-849f-b283db76d768",
   "metadata": {},
   "outputs": [
    {
     "name": "stdout",
     "output_type": "stream",
     "text": [
      "Jack of Clubs\n",
      "Six of Diamonds\n"
     ]
    }
   ],
   "source": [
    "for card in test_player.cards:\n",
    "    print(card)"
   ]
  },
  {
   "cell_type": "markdown",
   "id": "a4605667-8cd2-478f-9561-a8105232a2a8",
   "metadata": {},
   "source": [
    " let's tackle the Aces issue. If a hand's value exceeds 21 but it contains an Ace, we can reduce the Ace's value from 11 to 1 and continue playing."
   ]
  },
  {
   "cell_type": "code",
   "execution_count": 30,
   "id": "b339f37d-9ebd-4ace-ba7e-fb8f5f719874",
   "metadata": {},
   "outputs": [],
   "source": [
    "class Hand:\n",
    "    \n",
    "    def __init__(self):\n",
    "        self.cards = []  # START WITH AN EMPTY LIST AS WE DID IN THE Deck class\n",
    "        self.value = 0   # START WITH ZERO VALUE\n",
    "        self.aces = 0    # ADD AN ATTRIBUTE TO KEEP TRACK OF ACES\n",
    "    \n",
    "    def add_card(self,card):\n",
    "        self.cards.append(card)\n",
    "        self.value += values[card.rank]\n",
    "        if card.rank == 'Ace':\n",
    "            self.aces += 1  # ADD TO self.aces\n",
    "    \n",
    "    def adjust_for_ace(self):\n",
    "        while self.value > 21 and self.aces: # IF TOTAL VALUE > 21 AND I STILL HAVE AN ACE\n",
    "                                             # THAN CHANGE MY ACE TO BE A 1 INSTEAD OF AN 11\n",
    "            self.value -= 10\n",
    "            self.aces -= 1 "
   ]
  },
  {
   "cell_type": "markdown",
   "id": "838d5b15-d0ce-45e3-ab3e-f0e922e6d96a",
   "metadata": {},
   "source": [
    "We added code to the add_card method to bump self.aces whenever an ace is brought into the hand, and added code to the adjust_for_aces method that decreases the number of aces any time we make an adjustment to stay under 21."
   ]
  },
  {
   "cell_type": "code",
   "execution_count": null,
   "id": "501676f1-f5a9-486c-8b65-934ffa244eaa",
   "metadata": {},
   "outputs": [],
   "source": []
  },
  {
   "cell_type": "markdown",
   "id": "6099669c-6b5b-40f8-9ebf-0058d1cfbfdc",
   "metadata": {},
   "source": [
    "Step 5: Create a Chips Class\n",
    "In addition to decks of cards and hands, we need to keep track of a Player's starting chips, bets, and ongoing winnings. This could be done using global variables, but in the spirit of object oriented programming, let's make a Chips class instead!"
   ]
  },
  {
   "cell_type": "code",
   "execution_count": 35,
   "id": "9620080e-e004-4235-a795-70958fe56cec",
   "metadata": {},
   "outputs": [],
   "source": [
    "class Chips:\n",
    "    \n",
    "    def __init__(self):\n",
    "        self.total = 100  # THIS CAN BE SEt TO A DEFAULT VALUE OR SUPPLIED BY A USER INPUT\n",
    "        self.bet = 0\n",
    "        \n",
    "    def win_bet(self):\n",
    "        self.total += self.bet\n",
    "    \n",
    "    def lose_bet(self):\n",
    "        self.total -= self.bet"
   ]
  },
  {
   "cell_type": "markdown",
   "id": "2aa3b82c-06f1-42ec-a30f-951a104d0a00",
   "metadata": {},
   "source": [
    "A NOTE ABOUT OUR DEFAULT TOTAL VALUE:\n",
    "Alternatively, we could have passed a default total value as an parameter in the __init__. This would have let us pass in an override value at the time the object was created rather than wait until later to change it. The code would have looked like this:\n",
    "\n",
    "def __init__(self,total=100):\r\n",
    "    self.total = total\r\n",
    "    self.bet =\n",
    "Either technique is fine, it only depends on how you plan to start your game parameters. 0"
   ]
  },
  {
   "cell_type": "code",
   "execution_count": null,
   "id": "6e94b251-a7af-4f55-8b99-f5c096f37ec9",
   "metadata": {},
   "outputs": [],
   "source": []
  },
  {
   "cell_type": "markdown",
   "id": "875b405c-51ff-487d-91ef-a7592641b293",
   "metadata": {},
   "source": [
    "Step 6: Write a function for taking bets\n",
    "Since we're asking the user for an integer value, this would be a good place to use try/except. Remember to check that a Player's bet can be covered by their available chips."
   ]
  },
  {
   "cell_type": "code",
   "execution_count": 40,
   "id": "16468f8a-82a4-4b7a-8e70-4b6e3547db04",
   "metadata": {},
   "outputs": [],
   "source": [
    "def take_bet(chips):\n",
    "    \n",
    "    while True:\n",
    "        try:\n",
    "            chips.bet = int(input('How many chips would you like to bet? '))\n",
    "        except ValueError:\n",
    "            print('Sorry, a bet must be an integer!')\n",
    "        else:\n",
    "            if chips.bet > chips.total:\n",
    "                print(\"Sorry, your bet can't exceed\",chips.total)\n",
    "            else:\n",
    "                break"
   ]
  },
  {
   "cell_type": "markdown",
   "id": "fef6a291-da4c-42e4-a269-489fc59a59c2",
   "metadata": {},
   "source": [
    "We used a while loop here to continually prompt the user for input until we received an integer value that was within the Player's betting limit."
   ]
  },
  {
   "cell_type": "code",
   "execution_count": null,
   "id": "50ad4c6a-3197-4909-b0e3-4c1f71cb99b9",
   "metadata": {},
   "outputs": [],
   "source": []
  },
  {
   "cell_type": "markdown",
   "id": "c43d5f99-1be3-405d-9cf8-c4c7a8bed502",
   "metadata": {},
   "source": [
    "Step 7: Write a function for taking hits\n",
    "Either player can take hits until they bust. This function will be called during gameplay anytime a Player requests a hit, or a Dealer's hand is less than 17. It should take in Deck and Hand objects as arguments, and deal one card off the deck and add it to the Hand. You may want it to check for aces in the event that a player's hand exceeds 21."
   ]
  },
  {
   "cell_type": "code",
   "execution_count": 47,
   "id": "e1e77c0e-1182-46d0-b3d3-ec6cadc749d1",
   "metadata": {},
   "outputs": [],
   "source": [
    "def hit(deck,hand):\n",
    "    \n",
    "    hand.add_card(deck.deal())\n",
    "    hand.adjust_for_ace()"
   ]
  },
  {
   "cell_type": "code",
   "execution_count": null,
   "id": "0d244342-b8a8-4efd-8f88-11f18f3caae9",
   "metadata": {},
   "outputs": [],
   "source": []
  },
  {
   "cell_type": "markdown",
   "id": "5768c7e3-ef1a-4e3e-bca6-f40daff88ebc",
   "metadata": {},
   "source": [
    "Step 8: Write a function prompting the Player to Hit or Stand\n",
    "This function should accept the deck and the player's hand as arguments, and assign playing as a global variable.\n",
    "If the Player Hits, employ the hit() function above. If the Player Stands, set the playing variable to False - this will control the behavior of a while loop later on in our code."
   ]
  },
  {
   "cell_type": "code",
   "execution_count": 51,
   "id": "88d0157d-b803-4e90-b177-03e244d7c28d",
   "metadata": {},
   "outputs": [],
   "source": [
    "def hit_or_stand(deck,hand):\n",
    "    global playing  # TO CONTROL AN UPCOMING WHILE LOOP \n",
    "    \n",
    "    while True:\n",
    "        x = input(\"Would you like to Hit or Stand? Enter 'h' or 's' \")\n",
    "        \n",
    "        if x[0].lower() == 'h':\n",
    "            hit(deck,hand)  # hit() function DEFINED ABOVE\n",
    "\n",
    "        elif x[0].lower() == 's':\n",
    "            print(\"Player stands. Dealer is playing.\")\n",
    "            playing = False\n",
    "\n",
    "        else:\n",
    "            print(\"Sorry, please try again.\")\n",
    "            continue\n",
    "        break"
   ]
  },
  {
   "cell_type": "code",
   "execution_count": null,
   "id": "ff669df7-636e-4c2e-bc8d-24d6b307a19c",
   "metadata": {},
   "outputs": [],
   "source": []
  },
  {
   "cell_type": "markdown",
   "id": "642a5a34-1cac-4a2b-b354-59d920284f8c",
   "metadata": {},
   "source": [
    "Step 9: Write functions to display cards\n",
    "When the game starts, and after each time Player takes a card, the dealer's first card is hidden and all of Player's cards are visible. At the end of the hand all cards are shown, and you may want to show each hand's total value. Write a function for each of these scenarios."
   ]
  },
  {
   "cell_type": "code",
   "execution_count": 55,
   "id": "e1e38e20-7b41-4b08-8679-2486faf5f291",
   "metadata": {},
   "outputs": [],
   "source": [
    "def show_some(player,dealer):\n",
    "    # dealer.cards[0]\n",
    "    print(\"\\nDealer's Hand:\") # SHOW ONLY ONE OF THE DEALER'S CARDS\n",
    "    print(\" <card hidden>\")\n",
    "    print('',dealer.cards[1])  \n",
    "    print(\"\\nPlayer's Hand:\", *player.cards, sep='\\n ') # SHOW ALL(2 cards) OF THE PLAYER'S Hand/Cards\n",
    "    \n",
    "def show_all(player,dealer):\n",
    "    print(\"\\nDealer's Hand:\", *dealer.cards, sep='\\n ') # SHOW ALL THE DEALER'S CARDS\n",
    "    print(\"Dealer's Hand =\",dealer.value)\n",
    "    print(\"\\nPlayer's Hand:\", *player.cards, sep='\\n ')\n",
    "    print(\"Player's Hand =\",player.value)"
   ]
  },
  {
   "cell_type": "code",
   "execution_count": null,
   "id": "d8fa4452-9a7f-4cb6-8a73-4f1f1cd48feb",
   "metadata": {},
   "outputs": [],
   "source": []
  },
  {
   "cell_type": "markdown",
   "id": "4b92e580-68a2-4730-89cc-17bed29978a5",
   "metadata": {},
   "source": [
    "Step 10: Write functions to handle end of game scenarios\n",
    "Remember to pass player's hand, dealer's hand and chips as needed."
   ]
  },
  {
   "cell_type": "code",
   "execution_count": 59,
   "id": "10383cd3-8de5-4376-a178-b70ed4cec551",
   "metadata": {},
   "outputs": [],
   "source": [
    "def player_busts(player,dealer,chips):\n",
    "    print(\"Player busts!\")\n",
    "    chips.lose_bet()\n",
    "\n",
    "def player_wins(player,dealer,chips):\n",
    "    print(\"Player wins!\")\n",
    "    chips.win_bet()\n",
    "\n",
    "def dealer_busts(player,dealer,chips):\n",
    "    print(\"Dealer busts!\")\n",
    "    chips.win_bet()\n",
    "    \n",
    "def dealer_wins(player,dealer,chips):\n",
    "    print(\"Dealer wins!\")\n",
    "    chips.lose_bet()\n",
    "    \n",
    "def push(player,dealer):\n",
    "    print(\"Dealer and Player tie! It's a push.\")"
   ]
  },
  {
   "cell_type": "markdown",
   "id": "5505b437-259d-45b9-a172-77398fc81afe",
   "metadata": {},
   "source": [
    "And now on to the game!!"
   ]
  },
  {
   "cell_type": "code",
   "execution_count": 64,
   "id": "e4bfe740-47d0-4011-addf-f3e47d0e3e4e",
   "metadata": {},
   "outputs": [
    {
     "name": "stdout",
     "output_type": "stream",
     "text": [
      "Welcome to BlackJack! Get as close to 21 as you can without going over!\n",
      "    Dealer hits until she reaches 17. Aces count as 1 or 11.\n"
     ]
    },
    {
     "name": "stdin",
     "output_type": "stream",
     "text": [
      "How many chips would you like to bet?  5\n"
     ]
    },
    {
     "name": "stdout",
     "output_type": "stream",
     "text": [
      "\n",
      "Dealer's Hand:\n",
      " <card hidden>\n",
      " Nine of Spades\n",
      "\n",
      "Player's Hand:\n",
      " Jack of Spades\n",
      " Nine of Diamonds\n"
     ]
    },
    {
     "name": "stdin",
     "output_type": "stream",
     "text": [
      "Would you like to Hit or Stand? Enter 'h' or 's'  h\n"
     ]
    },
    {
     "name": "stdout",
     "output_type": "stream",
     "text": [
      "\n",
      "Dealer's Hand:\n",
      " <card hidden>\n",
      " Nine of Spades\n",
      "\n",
      "Player's Hand:\n",
      " Jack of Spades\n",
      " Nine of Diamonds\n",
      " Six of Clubs\n",
      "Player busts!\n",
      "\n",
      "Player's winnings stand at 95\n"
     ]
    },
    {
     "name": "stdin",
     "output_type": "stream",
     "text": [
      "Would you like to play another hand? Enter 'y' or 'n'  y\n"
     ]
    },
    {
     "name": "stdout",
     "output_type": "stream",
     "text": [
      "Welcome to BlackJack! Get as close to 21 as you can without going over!\n",
      "    Dealer hits until she reaches 17. Aces count as 1 or 11.\n"
     ]
    },
    {
     "name": "stdin",
     "output_type": "stream",
     "text": [
      "How many chips would you like to bet?  7\n"
     ]
    },
    {
     "name": "stdout",
     "output_type": "stream",
     "text": [
      "\n",
      "Dealer's Hand:\n",
      " <card hidden>\n",
      " Seven of Clubs\n",
      "\n",
      "Player's Hand:\n",
      " Ace of Diamonds\n",
      " Ten of Clubs\n"
     ]
    },
    {
     "name": "stdin",
     "output_type": "stream",
     "text": [
      "Would you like to Hit or Stand? Enter 'h' or 's'  s\n"
     ]
    },
    {
     "name": "stdout",
     "output_type": "stream",
     "text": [
      "Player stands. Dealer is playing.\n",
      "\n",
      "Dealer's Hand:\n",
      " <card hidden>\n",
      " Seven of Clubs\n",
      "\n",
      "Player's Hand:\n",
      " Ace of Diamonds\n",
      " Ten of Clubs\n",
      "\n",
      "Dealer's Hand:\n",
      " Ten of Diamonds\n",
      " Seven of Clubs\n",
      "Dealer's Hand = 17\n",
      "\n",
      "Player's Hand:\n",
      " Ace of Diamonds\n",
      " Ten of Clubs\n",
      "Player's Hand = 21\n",
      "Player wins!\n",
      "\n",
      "Player's winnings stand at 107\n"
     ]
    },
    {
     "name": "stdin",
     "output_type": "stream",
     "text": [
      "Would you like to play another hand? Enter 'y' or 'n'  n\n"
     ]
    },
    {
     "name": "stdout",
     "output_type": "stream",
     "text": [
      "Thanks for playing!\n"
     ]
    }
   ],
   "source": [
    "while True:\n",
    "    # PRINT AN OPENING STATEMENT\n",
    "    print('Welcome to BlackJack! Get as close to 21 as you can without going over!\\n\\\n",
    "    Dealer hits until she reaches 17. Aces count as 1 or 11.')\n",
    "    \n",
    "    # CREATE & SHUFFLE THE deck, DEAL TWO CARDS TO EACH PLAYER\n",
    "    deck = Deck()\n",
    "    deck.shuffle()\n",
    "    \n",
    "    player_hand = Hand()\n",
    "    player_hand.add_card(deck.deal())\n",
    "    player_hand.add_card(deck.deal())\n",
    "    \n",
    "    dealer_hand = Hand()\n",
    "    dealer_hand.add_card(deck.deal())\n",
    "    dealer_hand.add_card(deck.deal())\n",
    "            \n",
    "    # SET UP THE PLAYER'S CHIPS\n",
    "    player_chips = Chips()  # REMEMBER THE DEFAULT VALUE IS 100    \n",
    "    \n",
    "    # PROMPT THE PLAYER FOR THEIR bet\n",
    "    take_bet(player_chips)\n",
    "    \n",
    "    # SHOW CARDS (BUT KEEP ONE DEALER CARD HIDDEN)\n",
    "    show_some(player_hand,dealer_hand)\n",
    "    \n",
    "    while playing:  # RECALL THIS VARIABLE FROM OUR hit_or_stand FUNCTION\n",
    "        \n",
    "        # PROMPT FOR PLAYER TO HIT OR STAND\n",
    "        hit_or_stand(deck,player_hand) \n",
    "        \n",
    "        # SHOW CARDS (BUT KEEP ONE DEALER CARD HIDDEN)\n",
    "        show_some(player_hand,dealer_hand)  \n",
    "        \n",
    "        # IF PLAYER'S HAND EXCEEDS 21, RUN player_busts() AND break OUT OF lOOP\n",
    "        if player_hand.value > 21:\n",
    "            player_busts(player_hand,dealer_hand,player_chips)\n",
    "            break        \n",
    "\n",
    "\n",
    "    # IF PLAYER HASN'T BUSTED, PLAY DEALER'S HAND UNTILL DEALER REACHES 17 \n",
    "    if player_hand.value <= 21:\n",
    "        \n",
    "        while dealer_hand.value < 17:\n",
    "            hit(deck,dealer_hand)    \n",
    "    \n",
    "        # SHOW ALL CARDS\n",
    "        show_all(player_hand,dealer_hand)\n",
    "        \n",
    "        # RUN DIFFERENCE WINNING SCENARIOS\n",
    "        if dealer_hand.value > 21:\n",
    "            dealer_busts(player_hand,dealer_hand,player_chips)\n",
    "\n",
    "        elif dealer_hand.value > player_hand.value:\n",
    "            dealer_wins(player_hand,dealer_hand,player_chips)\n",
    "\n",
    "        elif dealer_hand.value < player_hand.value:\n",
    "            player_wins(player_hand,dealer_hand,player_chips)\n",
    "\n",
    "        else:\n",
    "            push(player_hand,dealer_hand)        \n",
    "    \n",
    "    # INFORM PLAYERS OF THEIR CHIPS TOTAL \n",
    "    print(\"\\nPlayer's winnings stand at\",player_chips.total)\n",
    "    \n",
    "    # ASK TO PLAY AGAIN\n",
    "    new_game = input(\"Would you like to play another hand? Enter 'y' or 'n' \")\n",
    "    \n",
    "    if new_game[0].lower()=='y':\n",
    "        playing=True\n",
    "        continue\n",
    "    else:\n",
    "        print(\"Thanks for playing!\")\n",
    "        break"
   ]
  },
  {
   "cell_type": "code",
   "execution_count": null,
   "id": "f8b93268-e9a2-4bea-9f48-dbc01f6e0dd9",
   "metadata": {},
   "outputs": [],
   "source": []
  }
 ],
 "metadata": {
  "kernelspec": {
   "display_name": "Python 3 (ipykernel)",
   "language": "python",
   "name": "python3"
  },
  "language_info": {
   "codemirror_mode": {
    "name": "ipython",
    "version": 3
   },
   "file_extension": ".py",
   "mimetype": "text/x-python",
   "name": "python",
   "nbconvert_exporter": "python",
   "pygments_lexer": "ipython3",
   "version": "3.12.4"
  }
 },
 "nbformat": 4,
 "nbformat_minor": 5
}
